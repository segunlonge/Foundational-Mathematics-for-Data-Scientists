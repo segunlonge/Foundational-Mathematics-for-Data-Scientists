{
 "cells": [
  {
   "cell_type": "markdown",
   "id": "d63734e4-9310-468a-bada-5bccbadf0ae5",
   "metadata": {},
   "source": [
    "# Mathematics for Data Science Foundation"
   ]
  },
  {
   "cell_type": "markdown",
   "id": "c918ab22-b50b-468b-9817-1ccd34654ea0",
   "metadata": {},
   "source": [
    "This is me experimenting with the article by Farzad Nobar on data science foundations. The article from Towards Data Science lists a bunch of foundational mathematics needed for data science including:\n",
    "\n",
    "1. Statistics\n",
    "2. Calculus\n",
    "3. Linear Algebra\n",
    "4. Probability\n",
    "\n",
    "I have taken these and extended some of these as my way of experimenting and playing with the ideas. I particularly liked the article because it demonstrates most of the things I had learnt with pen and paper whilst studying a diploma in physics and data analysis."
   ]
  },
  {
   "cell_type": "markdown",
   "id": "be9e8a95-02c8-44c0-a8fc-298f289a57f5",
   "metadata": {},
   "source": [
    "## Statistics\n",
    "Let's start with statistics"
   ]
  },
  {
   "cell_type": "markdown",
   "id": "b6e5d84b-fafd-41e5-bc0b-7d48e561e9f1",
   "metadata": {},
   "source": [
    "### Descriptive statistics\n",
    "\n",
    "Simply put this refers ways of summarising and intepreting data.\n",
    "\n",
    "Here I'm going to use the number of children born from a 1941 Canadian census to Protestant mothers:\n",
    "\n",
    "0 4 0 2 3 3 0 4 7 1 9 4 3 2 3 2 16 6 0 13 6 6 5 9 10 5 4 3 3 5 2 3 5 15 5"
   ]
  },
  {
   "cell_type": "code",
   "execution_count": null,
   "id": "45bb6242-4c6e-44b7-a4d1-83e44a81115c",
   "metadata": {},
   "outputs": [],
   "source": [
    "import numpy as np\n",
    "import pandas as pd\n",
    "\n",
    "#create data set\n",
    "numofchildren = {'Values': [0 4 0 2 3 3 0 4 7 1 9 4 3 2 3 2 16 6 0 13 6 6 5 9 10 5 4 3 3 5 2 3 5 15 5]}\n",
    "\n",
    "#create a dataframe of the dataset\n",
    "df = pd.Dataframe\n",
    "\n"
   ]
  }
 ],
 "metadata": {
  "kernelspec": {
   "display_name": "Python 3 (ipykernel)",
   "language": "python",
   "name": "python3"
  },
  "language_info": {
   "codemirror_mode": {
    "name": "ipython",
    "version": 3
   },
   "file_extension": ".py",
   "mimetype": "text/x-python",
   "name": "python",
   "nbconvert_exporter": "python",
   "pygments_lexer": "ipython3",
   "version": "3.12.7"
  }
 },
 "nbformat": 4,
 "nbformat_minor": 5
}
