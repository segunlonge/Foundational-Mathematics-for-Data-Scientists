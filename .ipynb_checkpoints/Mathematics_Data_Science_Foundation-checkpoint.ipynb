{
 "cells": [
  {
   "cell_type": "markdown",
   "id": "d63734e4-9310-468a-bada-5bccbadf0ae5",
   "metadata": {},
   "source": [
    "# Mathematics for Data Science Foundation"
   ]
  },
  {
   "cell_type": "markdown",
   "id": "c918ab22-b50b-468b-9817-1ccd34654ea0",
   "metadata": {},
   "source": [
    "This is me experimenting with the article by Farzad Nobar on data science foundations. The article from Towards Data Science lists a bunch of foundational mathematics needed for data science including:\n",
    "\n",
    "1. Statistics\n",
    "2. Calculus\n",
    "3. Linear Algebra\n",
    "4. Probability\n",
    "\n",
    "I have taken these and extended some of them as my way of experimenting and playing with the ideas. I particularly liked the article because it demonstrates most of the things I had learnt with pen and paper whilst studying a diploma in physics and data analysis."
   ]
  },
  {
   "cell_type": "markdown",
   "id": "be9e8a95-02c8-44c0-a8fc-298f289a57f5",
   "metadata": {},
   "source": [
    "## Statistics\n",
    "Let's start with statistics"
   ]
  },
  {
   "cell_type": "markdown",
   "id": "b6e5d84b-fafd-41e5-bc0b-7d48e561e9f1",
   "metadata": {},
   "source": [
    "### Descriptive statistics\n",
    "\n",
    "Simply put this refers ways of summarising and intepreting data.\n",
    "\n",
    "Here I'm going to use the number of children born from a 1941 Canadian census to Protestant mothers in Ontario:\n",
    "\n",
    "0 4 0 2 3 3 0 4 7 1 9 4 3 2 3 2 16 6 0 13 6 6 5 9 10 5 4 3 3 5 2 3 5 15 5"
   ]
  },
  {
   "cell_type": "code",
   "execution_count": 5,
   "id": "45bb6242-4c6e-44b7-a4d1-83e44a81115c",
   "metadata": {},
   "outputs": [
    {
     "name": "stdout",
     "output_type": "stream",
     "text": [
      "Mean: 4.8\n",
      "Median: 4.0\n",
      "Standard Deviation: 3.9541489751458605\n"
     ]
    }
   ],
   "source": [
    "import numpy as np\n",
    "import pandas as pd\n",
    "\n",
    "#create data set i.e. a key value dictionary with the value as a list of numbers\n",
    "numofchildren = {'Values': [0,4,0,2,3,3,0,4,7,1,9,4,3,2,3,2,16,6,0,13,6,6,5,9,10,5,4,3,3,5,2,3,5,15,5]}\n",
    "\n",
    "#create a dataframe of the dataset\n",
    "df = pd.DataFrame(numofchildren)\n",
    "\n",
    "# calculate descriptive statistics\n",
    "mean = df['Values'].mean()\n",
    "median = df['Values'].median()\n",
    "std_dev = df['Values'].std()\n",
    "\n",
    "print(f\"Mean: {mean}\")\n",
    "print(f\"Median: {median}\")\n",
    "print(f\"Standard Deviation: {std_dev}\")"
   ]
  },
  {
   "cell_type": "markdown",
   "id": "f73f6e5e-8893-4f50-8427-438290ae959d",
   "metadata": {},
   "source": [
    "We can see that the mean and median number of children are not very close which means that the data is slightly skewed the right (Mean > Median). We can even plot the data to see this. The standard deviation tells us that there are big differences in the number of childer between anyone mother though."
   ]
  },
  {
   "cell_type": "code",
   "execution_count": 18,
   "id": "a3c3d7cb-91f6-409b-bb3c-7e0b6a918b2c",
   "metadata": {},
   "outputs": [
    {
     "data": {
      "text/plain": [
       "Text(0.5, 1.0, 'Histogram of Number of Children')"
      ]
     },
     "execution_count": 18,
     "metadata": {},
     "output_type": "execute_result"
    },
    {
     "data": {
      "image/png": "[encoded data removed]",
      "text/plain": [
       "<Figure size 640x480 with 1 Axes>"
      ]
     },
     "metadata": {},
     "output_type": "display_data"
    }
   ],
   "source": [
    "import matplotlib.pyplot as plt\n",
    "\n",
    "# Extract list of values\n",
    "values = numofchildren['Values']\n",
    "#print(values)\n",
    "\n",
    "# Plot the histogram\n",
    "plt.hist(values, bins=range(0, max(values)), edgecolor='black', align='left')\n",
    "plt.xlabel(\"Number of Children\")\n",
    "plt.ylabel(\"Frequency\")\n",
    "plt.title(\"Histogram of Number of Children\")"
   ]
  },
  {
   "cell_type": "code",
   "execution_count": null,
   "id": "6376c0c9-9281-449c-b977-ec4cd9e7c5ec",
   "metadata": {},
   "outputs": [],
   "source": []
  }
 ],
 "metadata": {
  "kernelspec": {
   "display_name": "Python 3 (ipykernel)",
   "language": "python",
   "name": "python3"
  },
  "language_info": {
   "codemirror_mode": {
    "name": "ipython",
    "version": 3
   },
   "file_extension": ".py",
   "mimetype": "text/x-python",
   "name": "python",
   "nbconvert_exporter": "python",
   "pygments_lexer": "ipython3",
   "version": "3.12.7"
  }
 },
 "nbformat": 4,
 "nbformat_minor": 5
}
